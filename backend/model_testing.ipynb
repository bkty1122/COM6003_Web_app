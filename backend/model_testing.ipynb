{
 "cells": [
  {
   "cell_type": "markdown",
   "metadata": {},
   "source": [
    "# Notebook for testing the model on the test set"
   ]
  },
  {
   "cell_type": "code",
   "execution_count": null,
   "metadata": {},
   "outputs": [],
   "source": [
    "'''\n",
    "Feature extraction for the cancer dataset.\n",
    "Feature 'smoke':\n",
    "False: 0\n",
    "True: 1\n",
    "Unknown: -1\n",
    "------------------------------\n",
    "Feature 'drink':\n",
    "False: 0\n",
    "True: 1\n",
    "Unknown: -1\n",
    "------------------------------\n",
    "Feature 'background_father':\n",
    "AUSTRIA: 0\n",
    "BRASIL: 1\n",
    "BRAZIL: 2\n",
    "CZECH: 3\n",
    "GERMANY: 4\n",
    "ISRAEL: 5\n",
    "ITALY: 6\n",
    "NETHERLANDS: 7\n",
    "POLAND: 8\n",
    "POMERANIA: 9\n",
    "PORTUGAL: 10\n",
    "SPAIN: 11\n",
    "Unknown: -1\n",
    "------------------------------\n",
    "Feature 'background_mother':\n",
    "BRAZIL: 0\n",
    "FRANCE: 1\n",
    "GERMANY: 2\n",
    "ITALY: 3\n",
    "NETHERLANDS: 4\n",
    "NORWAY: 5\n",
    "POLAND: 6\n",
    "POMERANIA: 7\n",
    "PORTUGAL: 8\n",
    "SPAIN: 9\n",
    "Unknown: -1\n",
    "------------------------------\n",
    "Feature 'pesticide':\n",
    "False: 0\n",
    "True: 1\n",
    "Unknown: -1\n",
    "------------------------------\n",
    "Feature 'gender':\n",
    "FEMALE: 0\n",
    "MALE: 1\n",
    "Unknown: -1\n",
    "------------------------------\n",
    "Feature 'skin_cancer_history':\n",
    "False: 0\n",
    "True: 1\n",
    "Unknown: -1\n",
    "------------------------------\n",
    "Feature 'cancer_history':\n",
    "False: 0\n",
    "True: 1\n",
    "Unknown: -1\n",
    "------------------------------\n",
    "Feature 'has_piped_water':\n",
    "False: 0\n",
    "True: 1\n",
    "Unknown: -1\n",
    "------------------------------\n",
    "Feature 'has_sewage_system':\n",
    "False: 0\n",
    "True: 1\n",
    "Unknown: -1\n",
    "------------------------------\n",
    "Feature 'grew':\n",
    "FALSE: 0\n",
    "TRUE: 1\n",
    "Unknown: -1\n",
    "------------------------------\n",
    "Feature 'changed':\n",
    "FALSE: 0\n",
    "TRUE: 1\n",
    "Unknown: -1\n",
    "------------------------------\n",
    "'''"
   ]
  },
  {
   "cell_type": "code",
   "execution_count": 4,
   "metadata": {},
   "outputs": [],
   "source": [
    "# randomly generate three numeric features base on the original features\n",
    "import random\n",
    "\n",
    "def random_value(mapping):\n",
    "    \"\"\"Randomly selects a value from the provided mapping dictionary.\"\"\"\n",
    "    return random.choice(list(mapping.values()))\n",
    "\n",
    "def generate_random_features():\n",
    "    features = {\n",
    "        'smoke': {False: 0, True: 1, 'Unknown': -1},\n",
    "        'drink': {False: 0, True: 1, 'Unknown': -1},\n",
    "        'background_father': {'AUSTRIA': 0, 'BRASIL': 1, 'BRAZIL': 2, 'CZECH': 3, 'GERMANY': 4, 'ISRAEL': 5, 'ITALY': 6, 'NETHERLANDS': 7, 'POLAND': 8, 'POMERANIA': 9, 'PORTUGAL': 10, 'SPAIN': 11, 'Unknown': -1},\n",
    "        'background_mother': {'BRAZIL': 0, 'FRANCE': 1, 'GERMANY': 2, 'ITALY': 3, 'NETHERLANDS': 4, 'NORWAY': 5, 'POLAND': 6, 'POMERANIA': 7, 'PORTUGAL': 8, 'SPAIN': 9, 'Unknown': -1},\n",
    "        'pesticide': {False: 0, True: 1, 'Unknown': -1},\n",
    "        'gender': {'FEMALE': 0, 'MALE': 1, 'Unknown': -1},\n",
    "        'skin_cancer_history': {False: 0, True: 1, 'Unknown': -1},\n",
    "        'cancer_history': {False: 0, True: 1, 'Unknown': -1},\n",
    "        'has_piped_water': {False: 0, True: 1, 'Unknown': -1},\n",
    "        'has_sewage_system': {False: 0, True: 1, 'Unknown': -1},\n",
    "        'grew': {False: 0, True: 1, 'Unknown': -1},\n",
    "        'changed': {False: 0, True: 1, 'Unknown': -1}\n",
    "    }\n",
    "\n",
    "    # Generate a random value for each feature\n",
    "    random_feature_values = {feature: random_value(mapping) for feature, mapping in features.items()}\n",
    "    return random_feature_values\n",
    "\n",
    "random_features = generate_random_features()"
   ]
  },
  {
   "cell_type": "code",
   "execution_count": 4,
   "metadata": {},
   "outputs": [],
   "source": [
    "# try if the image processor is working\n",
    "import tensorflow as tf\n",
    "\n",
    "# image processing for model\n",
    "def img_preprocessing(img):\n",
    "    \"\"\" Image preprocessing function \"\"\"\n",
    "    img = tf.io.read_file(img)  # Read the image file\n",
    "    img = tf.image.decode_png(img, channels=3)  # Decode the PNG image\n",
    "    img = tf.image.resize(img, (150, 150))  # Resize the image, image size is (256, 256)\n",
    "    img = tf.cast(img, tf.float32) / 255.0  # Normalize pixel values to [0, 1] range\n",
    "    return img\n",
    "\n",
    "# image path\n",
    "img_path = 'testing_data/test3.png'\n",
    "\n",
    "img = img_preprocessing(img_path)"
   ]
  },
  {
   "cell_type": "code",
   "execution_count": 12,
   "metadata": {},
   "outputs": [],
   "source": [
    "from sklearn.ensemble import RandomForestClassifier"
   ]
  },
  {
   "cell_type": "code",
   "execution_count": 1,
   "metadata": {},
   "outputs": [
    {
     "name": "stderr",
     "output_type": "stream",
     "text": [
      "2024-05-07 05:35:10.666319: W tensorflow/stream_executor/platform/default/dso_loader.cc:64] Could not load dynamic library 'libcudart.so.11.0'; dlerror: libcudart.so.11.0: cannot open shared object file: No such file or directory\n",
      "2024-05-07 05:35:10.666364: I tensorflow/stream_executor/cuda/cudart_stub.cc:29] Ignore above cudart dlerror if you do not have a GPU set up on your machine.\n",
      "2024-05-07 05:35:16.993923: W tensorflow/stream_executor/platform/default/dso_loader.cc:64] Could not load dynamic library 'libcuda.so.1'; dlerror: libcuda.so.1: cannot open shared object file: No such file or directory\n",
      "2024-05-07 05:35:16.993961: W tensorflow/stream_executor/cuda/cuda_driver.cc:269] failed call to cuInit: UNKNOWN ERROR (303)\n",
      "2024-05-07 05:35:16.993987: I tensorflow/stream_executor/cuda/cuda_diagnostics.cc:156] kernel driver does not appear to be running on this host (codespaces-ab1841): /proc/driver/nvidia/version does not exist\n",
      "2024-05-07 05:35:17.012521: I tensorflow/core/platform/cpu_feature_guard.cc:151] This TensorFlow binary is optimized with oneAPI Deep Neural Network Library (oneDNN) to use the following CPU instructions in performance-critical operations:  AVX2 FMA\n",
      "To enable them in other operations, rebuild TensorFlow with the appropriate compiler flags.\n"
     ]
    },
    {
     "name": "stdout",
     "output_type": "stream",
     "text": [
      "Model: \"model_20\"\n",
      "_________________________________________________________________\n",
      " Layer (type)                Output Shape              Param #   \n",
      "=================================================================\n",
      " input_42 (InputLayer)       [(None, 150, 150, 3)]     0         \n",
      "                                                                 \n",
      " xception (Functional)       (None, 5, 5, 2048)        20861480  \n",
      "                                                                 \n",
      " global_average_pooling2d_20  (None, 2048)             0         \n",
      "  (GlobalAveragePooling2D)                                       \n",
      "                                                                 \n",
      " dense_54 (Dense)            (None, 25)                51225     \n",
      "                                                                 \n",
      " dropout_20 (Dropout)        (None, 25)                0         \n",
      "                                                                 \n",
      " dense_55 (Dense)            (None, 7)                 182       \n",
      "                                                                 \n",
      "=================================================================\n",
      "Total params: 20,912,887\n",
      "Trainable params: 51,407\n",
      "Non-trainable params: 20,861,480\n",
      "_________________________________________________________________\n"
     ]
    }
   ],
   "source": [
    "# test if the model is working\n",
    "from keras.models import load_model\n",
    "\n",
    "# Load the model\n",
    "model = load_model('pretrained_image_model.h5')\n",
    "model.summary()"
   ]
  },
  {
   "cell_type": "code",
   "execution_count": 6,
   "metadata": {},
   "outputs": [
    {
     "data": {
      "text/plain": [
       "array([[-2.1256373 , -1.1598643 ,  0.9277239 , -2.0813558 ,  0.34929943,\n",
       "         2.9606695 , -1.1918007 ]], dtype=float32)"
      ]
     },
     "execution_count": 6,
     "metadata": {},
     "output_type": "execute_result"
    }
   ],
   "source": [
    "# try to predict the image\n",
    "def predict_image(model, img):\n",
    "    \"\"\" Predict the image \"\"\"\n",
    "    img = tf.expand_dims(img, axis=0)  # Expand the image dimensions\n",
    "    prediction = model.predict(img)  # Predict the image\n",
    "    return prediction\n",
    "\n",
    "prediction = predict_image(model, img)\n",
    "prediction"
   ]
  }
 ],
 "metadata": {
  "language_info": {
   "name": "python"
  }
 },
 "nbformat": 4,
 "nbformat_minor": 2
}
