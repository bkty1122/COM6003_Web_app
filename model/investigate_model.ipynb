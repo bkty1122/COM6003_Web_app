{
 "cells": [
  {
   "cell_type": "markdown",
   "metadata": {},
   "source": [
    "# Detect import attributes for model"
   ]
  },
  {
   "cell_type": "code",
   "execution_count": null,
   "metadata": {},
   "outputs": [],
   "source": [
    "# import joblib model, path: model\\model_resultfinal_stack_2.joblib\n",
    "import joblib\n",
    "import numpy as np\n",
    "\n",
    "# load model\n",
    "model = joblib.load('model\\model_resultfinal_stack_2.joblib')\n"
   ]
  },
  {
   "cell_type": "markdown",
   "metadata": {},
   "source": [
    "\tcount\tmean\tstd\tmin\t25%\t50%\t75%\tmax\n",
    "smoke\t2298.0\t0.787641\t0.931332\t0.0\t0.0\t0.0\t2.0\t2.0\n",
    "drink\t2298.0\t0.859878\t0.905861\t0.0\t0.0\t1.0\t2.0\t2.0\n",
    "background_father\t2298.0\t8.544386\t3.396583\t0.0\t6.0\t9.0\t12.0\t12.0\n",
    "background_mother\t2298.0\t6.445605\t3.463831\t0.0\t3.0\t7.0\t10.0\t10.0\n",
    "age\t2298.0\t60.464752\t15.894866\t6.0\t52.0\t62.0\t72.0\t94.0\n",
    "pesticide\t2298.0\t0.959530\t0.859589\t0.0\t0.0\t1.0\t2.0\t2.0\n",
    "gender\t2298.0\t1.022193\t0.823011\t0.0\t0.0\t1.0\t2.0\t2.0\n",
    "skin_cancer_history\t2298.0\t0.996084\t0.839015\t0.0\t0.0\t1.0\t2.0\t2.0\n",
    "cancer_history\t2298.0\t1.038729\t0.812279\t0.0\t0.0\t1.0\t2.0\t2.0\n",
    "has_piped_water\t2298.0\t1.101393\t0.767021\t0.0\t1.0\t1.0\t2.0\t2.0\n",
    "has_sewage_system\t2298.0\t1.067885\t0.792161\t0.0\t0.0\t1.0\t2.0\t2.0\n",
    "fitspatrick\t2298.0\t1.123151\t1.665045\t-1.0\t-1.0\t2.0\t2.0\t6.0\n",
    "region\t2298.0\t5.464752\t3.202201\t0.0\t3.0\t5.0\t7.0\t13.0\n",
    "diameter_1\t2298.0\t7.384682\t9.290361\t-1.0\t-1.0\t7.0\t12.0\t100.0\n",
    "diameter_2\t2298.0\t5.405135\t6.628122\t-1.0\t-1.0\t5.0\t9.0\t70.0\n",
    "itch\t2298.0\t0.638381\t0.485979\t0.0\t0.0\t1.0\t1.0\t2.0\n",
    "grew\t2298.0\t0.752393\t0.732394\t0.0\t0.0\t1.0\t1.0\t2.0\n",
    "hurt\t2298.0\t0.181462\t0.396617\t0.0\t0.0\t0.0\t0.0\t2.0\n",
    "changed\t2298.0\t0.432550\t0.768346\t0.0\t0.0\t0.0\t1.0\t2.0\n",
    "bleed\t2298.0\t0.272411\t0.451125\t0.0\t0.0\t0.0\t1.0\t2.0\n",
    "elevation\t2298.0\t0.625326\t0.485939\t0.0\t0.0\t1.0\t1.0\t2.0\n",
    "is_cancer\t2298.0\t0.473890\t0.499426\t0.0\t0.0\t0.0\t1.0\t1.0"
   ]
  },
  {
   "cell_type": "code",
   "execution_count": null,
   "metadata": {},
   "outputs": [],
   "source": []
  }
 ],
 "metadata": {
  "kernelspec": {
   "display_name": "Python 3",
   "language": "python",
   "name": "python3"
  },
  "language_info": {
   "name": "python",
   "version": "3.11.9"
  }
 },
 "nbformat": 4,
 "nbformat_minor": 2
}
